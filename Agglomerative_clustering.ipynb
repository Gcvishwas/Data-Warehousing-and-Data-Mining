{
 "cells": [
  {
   "cell_type": "code",
   "execution_count": null,
   "id": "67c31d07",
   "metadata": {},
   "outputs": [],
   "source": [
    "import pandas as pd\n",
    "import matplotlib.pyplot as plt\n",
    "import seaborn as sns\n",
    "from sklearn.cluster import AgglomerativeClustering\n",
    "from scipy.cluster.hierarchy import dendrogram, linkage\n",
    "\n",
    "# Sample data\n",
    "data = {\n",
    "    'Marks': [25, 30, 35, 45, 50, 55, 60, 70, 75, 80],\n",
    "    'Attendance': [60, 65, 70, 72, 75, 78, 80, 85, 90, 95]\n",
    "}\n",
    "\n",
    "df = pd.DataFrame(data)\n",
    "\n",
    "# Perform hierarchical/agglomerative clustering\n",
    "k = 3\n",
    "agg_clustering = AgglomerativeClustering(n_clusters=k, linkage='ward')\n",
    "df['Cluster'] = agg_clustering.fit_predict(df[['Marks', 'Attendance']])\n",
    "print(\"\\n📊 Clustered Data:\\n\", df)\n",
    "\n",
    "# Plot clusters\n",
    "plt.figure(figsize=(8,6))\n",
    "sns.scatterplot(data=df, x='Marks', y='Attendance', hue='Cluster', palette='Set2', s=100)\n",
    "plt.title(\"Agglomerative Clustering of Students\")\n",
    "plt.xlabel(\"Marks\")\n",
    "plt.ylabel(\"Attendance\")\n",
    "plt.legend()\n",
    "plt.grid(True)\n",
    "plt.show()\n",
    "\n",
    "# Plot dendrogram\n",
    "linked = linkage(df[['Marks', 'Attendance']], method='ward')\n",
    "\n",
    "plt.figure(figsize=(10, 5))\n",
    "dendrogram(linked,\n",
    "           orientation='top',\n",
    "           labels=df.index.values,\n",
    "           distance_sort='descending',\n",
    "           show_leaf_counts=True)\n",
    "plt.title('Dendrogram (Hierarchical Clustering)')\n",
    "plt.xlabel('Sample Index')\n",
    "plt.ylabel('Distance')\n",
    "plt.show()\n"
   ]
  }
 ],
 "metadata": {
  "kernelspec": {
   "display_name": "myenv",
   "language": "python",
   "name": "python3"
  },
  "language_info": {
   "codemirror_mode": {
    "name": "ipython",
    "version": 3
   },
   "file_extension": ".py",
   "mimetype": "text/x-python",
   "name": "python",
   "nbconvert_exporter": "python",
   "pygments_lexer": "ipython3",
   "version": "3.13.5"
  }
 },
 "nbformat": 4,
 "nbformat_minor": 5
}
