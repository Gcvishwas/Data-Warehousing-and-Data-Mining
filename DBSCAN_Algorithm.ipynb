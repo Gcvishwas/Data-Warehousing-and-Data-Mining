{
 "cells": [
  {
   "cell_type": "code",
   "execution_count": null,
   "id": "4c3b89d0",
   "metadata": {},
   "outputs": [],
   "source": [
    "import pandas as pd\n",
    "import matplotlib.pyplot as plt\n",
    "import seaborn as sns\n",
    "from sklearn.cluster import DBSCAN\n",
    "from sklearn.preprocessing import StandardScaler\n",
    "\n",
    "# Sample data\n",
    "data = {\n",
    "    'Marks': [25, 30, 35, 45, 50, 55, 60, 70, 75, 80],\n",
    "    'Attendance': [60, 65, 70, 72, 75, 78, 80, 85, 90, 95]\n",
    "}\n",
    "\n",
    "df = pd.DataFrame(data)\n",
    "\n",
    "# Standardize features\n",
    "scaler = StandardScaler()\n",
    "scaled_features = scaler.fit_transform(df[['Marks', 'Attendance']])\n",
    "\n",
    "# Apply DBSCAN\n",
    "dbscan = DBSCAN(eps=0.5, min_samples=2)\n",
    "df['Cluster'] = dbscan.fit_predict(scaled_features)\n",
    "print(\"\\n📊 Clustered Data with DBSCAN:\\n\", df)\n",
    "\n",
    "# Plot clusters\n",
    "plt.figure(figsize=(8,6))\n",
    "palette = sns.color_palette('bright', len(set(df['Cluster'])))\n",
    "sns.scatterplot(data=df, x='Marks', y='Attendance', hue='Cluster', palette=palette, s=100)\n",
    "\n",
    "plt.title(\"DBSCAN Clustering of Students\")\n",
    "plt.xlabel(\"Marks\")\n",
    "plt.ylabel(\"Attendance\")\n",
    "plt.legend(title='Cluster')\n",
    "plt.grid(True)\n",
    "plt.show()\n"
   ]
  }
 ],
 "metadata": {
  "kernelspec": {
   "display_name": "myenv",
   "language": "python",
   "name": "python3"
  },
  "language_info": {
   "codemirror_mode": {
    "name": "ipython",
    "version": 3
   },
   "file_extension": ".py",
   "mimetype": "text/x-python",
   "name": "python",
   "nbconvert_exporter": "python",
   "pygments_lexer": "ipython3",
   "version": "3.13.5"
  }
 },
 "nbformat": 4,
 "nbformat_minor": 5
}
