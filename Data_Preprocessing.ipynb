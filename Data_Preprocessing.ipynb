{
 "cells": [
  {
   "cell_type": "code",
   "execution_count": 5,
   "id": "defd70e7",
   "metadata": {},
   "outputs": [
    {
     "name": "stdout",
     "output_type": "stream",
     "text": [
      "Original Data:\n",
      "    Name   Age Salary Department\n",
      "0    Ram  25.0  20000         IT\n",
      "1  Shyam   NaN  30000         HR\n",
      "2   Hari  35.0    N/A       None\n",
      "3   Sita  29.0  25000    Finance\n",
      "4   None  40.0  40000         IT\n",
      "\n",
      "Cleaned Data:\n",
      "      Name    Age   Salary Department\n",
      "0      Ram  25.00  20000.0         IT\n",
      "1    Shyam  32.25  30000.0         HR\n",
      "2     Hari  35.00  28750.0    GENERAL\n",
      "3     Sita  29.00  25000.0    FINANCE\n",
      "4  Unknown  40.00  40000.0         IT\n"
     ]
    },
    {
     "name": "stderr",
     "output_type": "stream",
     "text": [
      "C:\\Users\\VISHWAS\\AppData\\Local\\Temp\\ipykernel_11244\\1030501530.py:19: FutureWarning: A value is trying to be set on a copy of a DataFrame or Series through chained assignment using an inplace method.\n",
      "The behavior will change in pandas 3.0. This inplace method will never work because the intermediate object on which we are setting values always behaves as a copy.\n",
      "\n",
      "For example, when doing 'df[col].method(value, inplace=True)', try using 'df.method({col: value}, inplace=True)' or df[col] = df[col].method(value) instead, to perform the operation inplace on the original object.\n",
      "\n",
      "\n",
      "  df[\"Name\"].fillna(\"Unknown\", inplace=True)\n",
      "C:\\Users\\VISHWAS\\AppData\\Local\\Temp\\ipykernel_11244\\1030501530.py:20: FutureWarning: A value is trying to be set on a copy of a DataFrame or Series through chained assignment using an inplace method.\n",
      "The behavior will change in pandas 3.0. This inplace method will never work because the intermediate object on which we are setting values always behaves as a copy.\n",
      "\n",
      "For example, when doing 'df[col].method(value, inplace=True)', try using 'df.method({col: value}, inplace=True)' or df[col] = df[col].method(value) instead, to perform the operation inplace on the original object.\n",
      "\n",
      "\n",
      "  df[\"Age\"].fillna(df[\"Age\"].mean(), inplace=True)\n",
      "C:\\Users\\VISHWAS\\AppData\\Local\\Temp\\ipykernel_11244\\1030501530.py:21: FutureWarning: A value is trying to be set on a copy of a DataFrame or Series through chained assignment using an inplace method.\n",
      "The behavior will change in pandas 3.0. This inplace method will never work because the intermediate object on which we are setting values always behaves as a copy.\n",
      "\n",
      "For example, when doing 'df[col].method(value, inplace=True)', try using 'df.method({col: value}, inplace=True)' or df[col] = df[col].method(value) instead, to perform the operation inplace on the original object.\n",
      "\n",
      "\n",
      "  df[\"Department\"].fillna(\"General\", inplace=True)\n",
      "C:\\Users\\VISHWAS\\AppData\\Local\\Temp\\ipykernel_11244\\1030501530.py:24: FutureWarning: A value is trying to be set on a copy of a DataFrame or Series through chained assignment using an inplace method.\n",
      "The behavior will change in pandas 3.0. This inplace method will never work because the intermediate object on which we are setting values always behaves as a copy.\n",
      "\n",
      "For example, when doing 'df[col].method(value, inplace=True)', try using 'df.method({col: value}, inplace=True)' or df[col] = df[col].method(value) instead, to perform the operation inplace on the original object.\n",
      "\n",
      "\n",
      "  df[\"Salary\"].replace(\"N/A\", np.nan, inplace=True)\n",
      "C:\\Users\\VISHWAS\\AppData\\Local\\Temp\\ipykernel_11244\\1030501530.py:26: FutureWarning: A value is trying to be set on a copy of a DataFrame or Series through chained assignment using an inplace method.\n",
      "The behavior will change in pandas 3.0. This inplace method will never work because the intermediate object on which we are setting values always behaves as a copy.\n",
      "\n",
      "For example, when doing 'df[col].method(value, inplace=True)', try using 'df.method({col: value}, inplace=True)' or df[col] = df[col].method(value) instead, to perform the operation inplace on the original object.\n",
      "\n",
      "\n",
      "  df[\"Salary\"].fillna(df[\"Salary\"].mean(), inplace=True)\n"
     ]
    }
   ],
   "source": [
    "#Data Preprocessing and Cleaning in Python\n",
    "\n",
    "import pandas as pd\n",
    "import numpy as np\n",
    "\n",
    "# Sample dataset with missing values and messy data\n",
    "data = {\n",
    "    \"Name\": [\"Ram\", \"Shyam\", \"Hari\", \"Sita\", None],\n",
    "    \"Age\": [25, np.nan, 35, 29, 40],\n",
    "    \"Salary\": [\"20000\", \"30000\", \"N/A\", \"25000\", \"40000\"],\n",
    "    \"Department\": [\"IT\", \"HR\", None, \"Finance\", \"IT\"]\n",
    "}\n",
    "\n",
    "df = pd.DataFrame(data)\n",
    "\n",
    "print(\"Original Data:\")\n",
    "print(df)\n",
    "# 1. Handle Missing Values\n",
    "df[\"Name\"].fillna(\"Unknown\", inplace=True)\n",
    "df[\"Age\"].fillna(df[\"Age\"].mean(), inplace=True)\n",
    "df[\"Department\"].fillna(\"General\", inplace=True)\n",
    "\n",
    "# 2. Handle Incorrect Data\n",
    "df[\"Salary\"].replace(\"N/A\", np.nan, inplace=True)\n",
    "df[\"Salary\"] = df[\"Salary\"].astype(float)\n",
    "df[\"Salary\"].fillna(df[\"Salary\"].mean(), inplace=True)\n",
    "\n",
    "# 3. Remove Duplicates (if any)\n",
    "df.drop_duplicates(inplace=True)\n",
    "\n",
    "# 4. Normalize / Standardize text data\n",
    "df[\"Department\"] = df[\"Department\"].str.upper()\n",
    "\n",
    "print(\"\\nCleaned Data:\")\n",
    "print(df)\n"
   ]
  }
 ],
 "metadata": {
  "kernelspec": {
   "display_name": "base",
   "language": "python",
   "name": "python3"
  },
  "language_info": {
   "codemirror_mode": {
    "name": "ipython",
    "version": 3
   },
   "file_extension": ".py",
   "mimetype": "text/x-python",
   "name": "python",
   "nbconvert_exporter": "python",
   "pygments_lexer": "ipython3",
   "version": "3.13.5"
  }
 },
 "nbformat": 4,
 "nbformat_minor": 5
}
