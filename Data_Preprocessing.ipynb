{
 "cells": [
  {
   "cell_type": "code",
   "execution_count": null,
   "id": "defd70e7",
   "metadata": {},
   "outputs": [],
   "source": [
    "# Lab 2: Data Preprocessing and Cleaning in Python\n",
    "\n",
    "import pandas as pd\n",
    "import numpy as np\n",
    "\n",
    "# Sample dataset with missing values and messy data\n",
    "data = {\n",
    "    \"Name\": [\"Ram\", \"Shyam\", \"Hari\", \"Sita\", None],\n",
    "    \"Age\": [25, np.nan, 35, 29, 40],\n",
    "    \"Salary\": [\"20000\", \"30000\", \"N/A\", \"25000\", \"40000\"],\n",
    "    \"Department\": [\"IT\", \"HR\", None, \"Finance\", \"IT\"]\n",
    "}\n",
    "\n",
    "df = pd.DataFrame(data)\n",
    "\n",
    "print(\"Original Data:\")\n",
    "print(df)\n",
    "# 1. Handle Missing Values\n",
    "df[\"Name\"].fillna(\"Unknown\", inplace=True)\n",
    "df[\"Age\"].fillna(df[\"Age\"].mean(), inplace=True)\n",
    "df[\"Department\"].fillna(\"General\", inplace=True)\n",
    "\n",
    "# 2. Handle Incorrect Data\n",
    "df[\"Salary\"].replace(\"N/A\", np.nan, inplace=True)\n",
    "df[\"Salary\"] = df[\"Salary\"].astype(float)\n",
    "df[\"Salary\"].fillna(df[\"Salary\"].mean(), inplace=True)\n",
    "\n",
    "# 3. Remove Duplicates (if any)\n",
    "df.drop_duplicates(inplace=True)\n",
    "\n",
    "# 4. Normalize / Standardize text data\n",
    "df[\"Department\"] = df[\"Department\"].str.upper()\n",
    "\n",
    "print(\"\\nCleaned Data:\")\n",
    "print(df)\n"
   ]
  }
 ],
 "metadata": {
  "kernelspec": {
   "display_name": "base",
   "language": "python",
   "name": "python3"
  },
  "language_info": {
   "codemirror_mode": {
    "name": "ipython",
    "version": 3
   },
   "file_extension": ".py",
   "mimetype": "text/x-python",
   "name": "python",
   "nbconvert_exporter": "python",
   "pygments_lexer": "ipython3",
   "version": "3.13.5"
  }
 },
 "nbformat": 4,
 "nbformat_minor": 5
}
