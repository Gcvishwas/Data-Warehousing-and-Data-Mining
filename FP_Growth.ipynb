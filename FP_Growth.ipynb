{
 "cells": [
  {
   "cell_type": "code",
   "execution_count": null,
   "id": "52d90635",
   "metadata": {},
   "outputs": [],
   "source": [
    "import pandas as pd\n",
    "from mlxtend.preprocessing import TransactionEncoder\n",
    "from mlxtend.frequent_patterns import fpgrowth, association_rules\n",
    "\n",
    "# Sample transaction dataset\n",
    "dataset = [\n",
    "    ['milk', 'bread', 'nuts', 'apple'],\n",
    "    ['milk', 'bread', 'nuts'],\n",
    "    ['milk', 'bread'],\n",
    "    ['milk', 'apple'],\n",
    "    ['bread', 'apple']\n",
    "]\n",
    "\n",
    "# Convert to dataframe with one-hot encoding\n",
    "te = TransactionEncoder()\n",
    "te_array = te.fit(dataset).transform(dataset)\n",
    "df = pd.DataFrame(te_array, columns=te.columns_)\n",
    "print(\"🔹 Transactional Data:\")\n",
    "print(df)\n",
    "\n",
    "# Apply FP-Growth algorithm\n",
    "frequent_itemsets = fpgrowth(df, min_support=0.5, use_colnames=True)\n",
    "\n",
    "print(\"\\n✅ Frequent Itemsets (support ≥ 0.5):\")\n",
    "print(frequent_itemsets)\n",
    "\n",
    "# Generate association rules\n",
    "rules = association_rules(frequent_itemsets, metric=\"confidence\", min_threshold=0.6)\n",
    "\n",
    "print(\"\\n📌 Association Rules:\")\n",
    "print(rules[['antecedents', 'consequents', 'support', 'confidence', 'lift']])\n"
   ]
  }
 ],
 "metadata": {
  "kernelspec": {
   "display_name": "myenv",
   "language": "python",
   "name": "python3"
  },
  "language_info": {
   "codemirror_mode": {
    "name": "ipython",
    "version": 3
   },
   "file_extension": ".py",
   "mimetype": "text/x-python",
   "name": "python",
   "nbconvert_exporter": "python",
   "pygments_lexer": "ipython3",
   "version": "3.13.5"
  }
 },
 "nbformat": 4,
 "nbformat_minor": 5
}
