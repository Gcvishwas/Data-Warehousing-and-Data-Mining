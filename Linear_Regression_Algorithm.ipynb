{
 "cells": [
  {
   "cell_type": "code",
   "execution_count": null,
   "id": "2731c236",
   "metadata": {},
   "outputs": [],
   "source": [
    "import pandas as pd\n",
    "import matplotlib.pyplot as plt\n",
    "from sklearn.linear_model import LinearRegression\n",
    "from sklearn.model_selection import train_test_split\n",
    "from sklearn.metrics import mean_squared_error, r2_score\n",
    "\n",
    "# Sample dataset\n",
    "data = {\n",
    "    'Hours_Studied': [1, 2, 3, 4, 5, 6, 7, 8, 9, 10],\n",
    "    'Marks_Obtained': [20, 25, 32, 35, 45, 50, 52, 60, 70, 85]\n",
    "}\n",
    "df = pd.DataFrame(data)\n",
    "\n",
    "# Features and target\n",
    "X = df[['Hours_Studied']]  # 2D array\n",
    "y = df['Marks_Obtained']\n",
    "\n",
    "# Train-test split\n",
    "X_train, X_test, y_train, y_test = train_test_split(X, y, test_size=0.2, random_state=1)\n",
    "\n",
    "# Train model\n",
    "model = LinearRegression()\n",
    "model.fit(X_train, y_train)\n",
    "\n",
    "# Predict\n",
    "y_pred = model.predict(X_test)\n",
    "\n",
    "# Output results\n",
    "print(\"🎯 Coefficient (Slope):\", model.coef_[0])\n",
    "print(\"📍 Intercept:\", model.intercept_)\n",
    "print(\"📈 Predicted values:\", y_pred)\n",
    "print(\"✅ R2 Score:\", r2_score(y_test, y_pred))\n",
    "print(\"🔍 Mean Squared Error:\", mean_squared_error(y_test, y_pred))\n",
    "\n",
    "# Visualize\n",
    "plt.scatter(X, y, color='blue', label='Actual Data')\n",
    "plt.plot(X, model.predict(X), color='red', label='Regression Line')\n",
    "plt.xlabel(\"Hours Studied\")\n",
    "plt.ylabel(\"Marks Obtained\")\n",
    "plt.title(\"Simple Linear Regression\")\n",
    "plt.legend()\n",
    "plt.grid(True)\n",
    "plt.show()\n",
    "\n",
    "# Predict for new value\n",
    "sample = [[7.5]]  # e.g., 7.5 hours studied\n",
    "predicted_marks = model.predict(sample)\n",
    "print(\"📌 Predicted marks for 7.5 hours:\", round(predicted_marks[0], 2))\n"
   ]
  }
 ],
 "metadata": {
  "kernelspec": {
   "display_name": "myenv",
   "language": "python",
   "name": "python3"
  },
  "language_info": {
   "codemirror_mode": {
    "name": "ipython",
    "version": 3
   },
   "file_extension": ".py",
   "mimetype": "text/x-python",
   "name": "python",
   "nbconvert_exporter": "python",
   "pygments_lexer": "ipython3",
   "version": "3.13.5"
  }
 },
 "nbformat": 4,
 "nbformat_minor": 5
}
