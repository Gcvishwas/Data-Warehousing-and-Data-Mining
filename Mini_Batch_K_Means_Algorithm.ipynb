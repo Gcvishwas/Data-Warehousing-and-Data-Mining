{
 "cells": [
  {
   "cell_type": "code",
   "execution_count": null,
   "id": "9d9752c7",
   "metadata": {},
   "outputs": [],
   "source": [
    "import pandas as pd\n",
    "import matplotlib.pyplot as plt\n",
    "import seaborn as sns\n",
    "from sklearn.cluster import MiniBatchKMeans\n",
    "\n",
    "# Sample data\n",
    "data = {\n",
    "    'Marks': [25, 30, 35, 45, 50, 55, 60, 70, 75, 80],\n",
    "    'Attendance': [60, 65, 70, 72, 75, 78, 80, 85, 90, 95]\n",
    "}\n",
    "\n",
    "df = pd.DataFrame(data)\n",
    "\n",
    "# Apply Mini-Batch K-Means clustering\n",
    "k = 3  # Number of clusters\n",
    "mbkmeans = MiniBatchKMeans(n_clusters=k, random_state=42, batch_size=4, max_iter=100)\n",
    "df['Cluster'] = mbkmeans.fit_predict(df[['Marks', 'Attendance']])\n",
    "# Print cluster centers\n",
    "print(\"📍 Cluster Centers:\\n\", mbkmeans.cluster_centers_)\n",
    "\n",
    "# Print clustered data\n",
    "print(\"\\n📊 Clustered Data:\\n\", df)\n",
    "\n",
    "# Plot clusters\n",
    "plt.figure(figsize=(8, 6))\n",
    "sns.scatterplot(data=df, x='Marks', y='Attendance', hue='Cluster', palette='Set2', s=100)\n",
    "plt.scatter(*mbkmeans.cluster_centers_.T, c='red', marker='X', s=200, label='Centroids')\n",
    "plt.title(\"Mini-Batch K-Means Clustering of Students\")\n",
    "plt.xlabel(\"Marks\")\n",
    "plt.ylabel(\"Attendance\")\n",
    "plt.legend()\n",
    "plt.grid(True)\n",
    "plt.show()\n"
   ]
  }
 ],
 "metadata": {
  "kernelspec": {
   "display_name": "myenv",
   "language": "python",
   "name": "python3"
  },
  "language_info": {
   "codemirror_mode": {
    "name": "ipython",
    "version": 3
   },
   "file_extension": ".py",
   "mimetype": "text/x-python",
   "name": "python",
   "nbconvert_exporter": "python",
   "pygments_lexer": "ipython3",
   "version": "3.13.5"
  }
 },
 "nbformat": 4,
 "nbformat_minor": 5
}
