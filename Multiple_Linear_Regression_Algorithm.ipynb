{
 "cells": [
  {
   "cell_type": "code",
   "execution_count": null,
   "id": "da373a03",
   "metadata": {},
   "outputs": [],
   "source": [
    "import pandas as pd\n",
    "from sklearn.linear_model import LinearRegression\n",
    "from sklearn.model_selection import train_test_split\n",
    "from sklearn.metrics import mean_squared_error, r2_score\n",
    "\n",
    "# Sample dataset\n",
    "data = {\n",
    "    'Hours_Studied':   [1, 2, 3, 4, 5, 6, 7, 8, 9, 10],\n",
    "    'Hours_Slept':     [8, 7, 6, 6, 6, 5, 5, 5, 4, 4],\n",
    "    'Attendance_Rate': [60, 65, 70, 75, 80, 85, 87, 90, 92, 95],\n",
    "    'Marks_Obtained':  [20, 25, 30, 34, 40, 45, 50, 60, 70, 85]\n",
    "}\n",
    "\n",
    "df = pd.DataFrame(data)\n",
    "\n",
    "# Features and target\n",
    "X = df[['Hours_Studied', 'Hours_Slept', 'Attendance_Rate']]\n",
    "y = df['Marks_Obtained']\n",
    "\n",
    "# Train-test split\n",
    "X_train, X_test, y_train, y_test = train_test_split(X, y, test_size=0.2, random_state=1)\n",
    "\n",
    "# Train model\n",
    "model = LinearRegression()\n",
    "model.fit(X_train, y_train)\n",
    "\n",
    "# Predict\n",
    "y_pred = model.predict(X_test)\n",
    "\n",
    "# Output\n",
    "print(\"📍 Coefficients:\", model.coef_)\n",
    "print(\"📍 Intercept:\", model.intercept_)\n",
    "print(\"📈\\n Predicted Marks:\", y_pred)\n",
    "print(\"✅ R2 Score:\", r2_score(y_test, y_pred))\n",
    "print(\"🔍 Mean Squared Error:\", mean_squared_error(y_test, y_pred))\n",
    "\n",
    "# Predict for new input\n",
    "sample = [[7.5, 5, 88]]  # e.g., 7.5 hours study, 5 hours sleep, 88% attendance\n",
    "predicted = model.predict(sample)\n",
    "print(f\"\\n📌 Predicted marks for input {sample[0]}: {round(predicted[0], 2)}\")\n"
   ]
  }
 ],
 "metadata": {
  "kernelspec": {
   "display_name": "myenv",
   "language": "python",
   "name": "python3"
  },
  "language_info": {
   "codemirror_mode": {
    "name": "ipython",
    "version": 3
   },
   "file_extension": ".py",
   "mimetype": "text/x-python",
   "name": "python",
   "nbconvert_exporter": "python",
   "pygments_lexer": "ipython3",
   "version": "3.13.5"
  }
 },
 "nbformat": 4,
 "nbformat_minor": 5
}
