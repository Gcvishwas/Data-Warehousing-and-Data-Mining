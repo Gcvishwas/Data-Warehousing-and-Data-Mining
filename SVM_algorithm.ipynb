{
 "cells": [
  {
   "cell_type": "code",
   "execution_count": null,
   "id": "c9ee69da",
   "metadata": {},
   "outputs": [],
   "source": [
    "import pandas as pd\n",
    "from sklearn.preprocessing import LabelEncoder\n",
    "from sklearn.svm import SVC\n",
    "from sklearn.metrics import accuracy_score, classification_report, confusion_matrix\n",
    "\n",
    "# --- Sample Play Tennis dataset ---\n",
    "data = {\n",
    "    'Outlook': ['Sunny', 'Sunny', 'Overcast', 'Rain', 'Rain', 'Rain', 'Overcast',\n",
    "                'Sunny', 'Sunny', 'Rain', 'Sunny', 'Overcast', 'Overcast', 'Rain'],\n",
    "    'Temperature': ['Hot', 'Hot', 'Hot', 'Mild', 'Cool', 'Cool', 'Cool',\n",
    "                    'Mild', 'Cool', 'Mild', 'Mild', 'Mild', 'Hot', 'Mild'],\n",
    "    'Humidity': ['High', 'High', 'High', 'High', 'Normal', 'Normal', 'Normal',\n",
    "                 'High', 'Normal', 'Normal', 'Normal', 'High', 'Normal', 'High'],\n",
    "    'Wind': ['Weak', 'Strong', 'Weak', 'Weak', 'Weak', 'Strong', 'Strong',\n",
    "             'Weak', 'Weak', 'Weak', 'Strong', 'Strong', 'Weak', 'Strong'],\n",
    "    'PlayTennis': ['No', 'No', 'Yes', 'Yes', 'Yes', 'No', 'Yes',\n",
    "                   'No', 'Yes', 'Yes', 'Yes', 'Yes', 'Yes', 'No']\n",
    "}\n",
    "\n",
    "df = pd.DataFrame(data)\n",
    "\n",
    "# --- Encode categorical features and target ---\n",
    "feature_cols = ['Outlook', 'Temperature', 'Humidity', 'Wind']\n",
    "X = df[feature_cols].apply(LabelEncoder().fit_transform)\n",
    "y = LabelEncoder().fit_transform(df['PlayTennis'])\n",
    "\n",
    "# --- Train SVM classifier ---\n",
    "model = SVC(kernel='linear')  # linear kernel\n",
    "model.fit(X, y)\n",
    "\n",
    "# --- Predict on training data ---\n",
    "y_pred = model.predict(X)\n",
    "\n",
    "# --- Evaluation ---\n",
    "print(\"Accuracy:\", accuracy_score(y, y_pred))\n",
    "print(\"\\nClassification Report:\\n\", classification_report(y, y_pred, target_names=['No', 'Yes']))\n",
    "print(\"\\nConfusion Matrix:\\n\", confusion_matrix(y, y_pred))\n",
    "\n",
    "# --- Predict a sample input ---\n",
    "sample = pd.DataFrame([['Overcast', 'Mild', 'High', 'Weak']], columns=feature_cols)\n",
    "for col in feature_cols:\n",
    "    sample[col] = LabelEncoder().fit(df[col]).transform(sample[col])\n",
    "\n",
    "predicted = model.predict(sample)\n",
    "print(\"\\n✅ Prediction for sample input:\", \"Yes\" if predicted[0] == 1 else \"No\")\n"
   ]
  }
 ],
 "metadata": {
  "kernelspec": {
   "display_name": "myenv",
   "language": "python",
   "name": "python3"
  },
  "language_info": {
   "codemirror_mode": {
    "name": "ipython",
    "version": 3
   },
   "file_extension": ".py",
   "mimetype": "text/x-python",
   "name": "python",
   "nbconvert_exporter": "python",
   "pygments_lexer": "ipython3",
   "version": "3.13.5"
  }
 },
 "nbformat": 4,
 "nbformat_minor": 5
}
